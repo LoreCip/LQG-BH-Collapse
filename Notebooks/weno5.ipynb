{
 "cells": [
  {
   "attachments": {},
   "cell_type": "markdown",
   "metadata": {},
   "source": [
    "### Solve Burgers Eq. using WENO recontruction method\n",
    "\n",
    "http://dx.doi.org/10.20944/preprints201810.0018.v1\n",
    "\n",
    "We solve the Burgers eq.\n",
    "$$\n",
    "\\partial_t u(x, t) + \\partial_x f(u) = 0, \\qquad f(u) = u^2 / 2 \n",
    "$$\n",
    "using WENOr2 and WENOr3 reconstruction methods to capture shocks in the u(x,t) field."
   ]
  },
  {
   "cell_type": "code",
   "execution_count": null,
   "metadata": {},
   "outputs": [],
   "source": []
  }
 ],
 "metadata": {
  "language_info": {
   "name": "python"
  },
  "orig_nbformat": 4
 },
 "nbformat": 4,
 "nbformat_minor": 2
}
