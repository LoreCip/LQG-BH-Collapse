{
 "cells": [
  {
   "cell_type": "code",
   "execution_count": 1,
   "metadata": {},
   "outputs": [],
   "source": [
    "import warnings\n",
    "import numpy as np\n",
    "import h5py\n",
    "\n",
    "import os"
   ]
  },
  {
   "cell_type": "code",
   "execution_count": 2,
   "metadata": {},
   "outputs": [
    {
     "name": "stdout",
     "output_type": "stream",
     "text": [
      "['/home/lorenzo/phd/LQG/ForwardID/sims/m5.0_dx0.005_xMax70.0_tf400.0_r030.0_a080.0/outputs', '/home/lorenzo/phd/LQG/ForwardID/sims/m5.0_dx0.005_xMax70.0_tf200.0_r02.14_a05.7066/outputs', '/home/lorenzo/phd/LQG/ForwardID/sims/m5.0_dx0.01_xMax70.0_tf200.0_r02.14_a05.7066/outputs']\n"
     ]
    }
   ],
   "source": [
    "paths = []\n",
    "for dirpath, dirnames, filenames in os.walk(\"/home/lorenzo/phd/LQG/ForwardDelta/sims\"):\n",
    "    if \"/outputs\" in dirpath:\n",
    "        paths.append(dirpath)\n",
    "\n",
    "print(paths)"
   ]
  },
  {
   "cell_type": "code",
   "execution_count": 3,
   "metadata": {},
   "outputs": [],
   "source": [
    "for path in paths:\n",
    "\n",
    "    with h5py.File(path + '/output.h5', 'w') as f:\n",
    "\n",
    "        N_save = np.loadtxt(path + '/../ParameterFile.par', comments='/*')[8]\n",
    "        dx = np.loadtxt(path + '/../ParameterFile.par', comments='/*')[7]\n",
    "        mass = np.loadtxt(path + '/../ParameterFile.par', comments='/*')[4]\n",
    "\n",
    "        x = np.loadtxt(path + f'/xs.dat')\n",
    "        NX = len(x)\n",
    "\n",
    "        f.create_dataset('Xgrid', data=x, chunks=(int(NX/2)), compression=\"gzip\", compression_opts=9)\n",
    "        f.create_dataset('Mass', data=mass)\n",
    "        f.create_dataset('dx', data=dx)\n",
    "\n",
    "        for ii in [0, 1, 2]:\n",
    "            try:\n",
    "                with warnings.catch_warnings():\n",
    "                    warnings.filterwarnings(\"ignore\",category=UserWarning)\n",
    "                    if ii == 0:\n",
    "                        r = np.loadtxt(path + f'/rho.dat')\n",
    "                    elif ii == 1:\n",
    "                        B = np.loadtxt(path + f'/B.dat')\n",
    "                    elif ii == 2:\n",
    "                        E = np.loadtxt(path + f'/E.dat')\n",
    "                    t = np.loadtxt(path + f'/times.dat')\n",
    "            except:\n",
    "                continue\n",
    "\n",
    "            iteration = 0\n",
    "            i = 0\n",
    "\n",
    "            for tt, dt, _ in t:\n",
    "                gr = f.require_group(f'{int(iteration)}')\n",
    "                if ii == 1:\n",
    "                    gr.create_dataset('B', data=B[i,:], chunks=(int(NX/2)), compression=\"gzip\", compression_opts=9)\n",
    "                elif ii == 2:\n",
    "                    gr.create_dataset('e^b', data=E[i,:], chunks=(int(NX/2)), compression=\"gzip\", compression_opts=9)\n",
    "                elif ii == 0:\n",
    "                    gr.create_dataset('rho', data=r[i,:], chunks=(int(NX/2)), compression=\"gzip\", compression_opts=9)\n",
    "                    gr.create_dataset('t', data=tt)\n",
    "                    gr.create_dataset('dt', data=dt)\n",
    "\n",
    "                iteration += N_save\n",
    "                i += 1"
   ]
  },
  {
   "cell_type": "code",
   "execution_count": null,
   "metadata": {},
   "outputs": [],
   "source": []
  },
  {
   "cell_type": "code",
   "execution_count": 16,
   "metadata": {},
   "outputs": [
    {
     "name": "stdout",
     "output_type": "stream",
     "text": [
      "8001\n"
     ]
    }
   ],
   "source": [
    "with h5py.File('/home/lorenzo/phd/LQG/FullDynamics/sims/m10.0_dx0.005_xMax70.0_tf400.0_r05.0_a013.3/outputs/output.h5', 'r') as f:\n",
    "    group_names = list(f.keys())\n",
    "    rl = []\n",
    "    for i in range(len(group_names)):\n",
    "        try:\n",
    "            int(group_names[i])  # Try converting the element to an integer\n",
    "        except ValueError:\n",
    "            rl.append(i)  # Remove the element if it cannot be converted\n",
    "    for r in rl[::-1]:\n",
    "        group_names.pop(r)\n",
    "\n",
    "    group_names = sorted(group_names, key=int)\n"
   ]
  },
  {
   "cell_type": "code",
   "execution_count": null,
   "metadata": {},
   "outputs": [],
   "source": []
  },
  {
   "cell_type": "code",
   "execution_count": null,
   "metadata": {},
   "outputs": [],
   "source": []
  }
 ],
 "metadata": {
  "kernelspec": {
   "display_name": "venvLQG",
   "language": "python",
   "name": "python3"
  },
  "language_info": {
   "codemirror_mode": {
    "name": "ipython",
    "version": 3
   },
   "file_extension": ".py",
   "mimetype": "text/x-python",
   "name": "python",
   "nbconvert_exporter": "python",
   "pygments_lexer": "ipython3",
   "version": "3.11.4"
  },
  "orig_nbformat": 4
 },
 "nbformat": 4,
 "nbformat_minor": 2
}
