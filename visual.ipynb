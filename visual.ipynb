{
 "cells": [
  {
   "cell_type": "code",
   "execution_count": null,
   "metadata": {},
   "outputs": [],
   "source": [
    "import numpy as np\n",
    "import matplotlib.pyplot as plt\n",
    "\n",
    "%matplotlib widget\n",
    "\n",
    "#############\n",
    "## FORTRAN\n",
    "#############\n",
    "\n",
    "from scipy.io import FortranFile\n",
    "\n",
    "with FortranFile('./outputs/rho.dat', 'r') as f:\n",
    "    fr = f.read_reals(dtype=np.float64)\n",
    "with FortranFile('./outputs/B.dat', 'r') as f:\n",
    "    fB = f.read_reals(dtype=np.float64)\n",
    "with FortranFile('./outputs/xs.dat', 'r') as f:\n",
    "    fx = f.read_reals(dtype=np.float64)\n",
    "\n",
    "\n",
    "m = 5\n",
    "xM = 50.0\n",
    "r0 = 15\n",
    "\n",
    "print(len(fx))"
   ]
  },
  {
   "cell_type": "code",
   "execution_count": null,
   "metadata": {},
   "outputs": [],
   "source": [
    "plt.figure()\n",
    "plt.plot(fx, fr, '.-')"
   ]
  },
  {
   "cell_type": "code",
   "execution_count": null,
   "metadata": {},
   "outputs": [],
   "source": []
  }
 ],
 "metadata": {
  "kernelspec": {
   "display_name": "venv",
   "language": "python",
   "name": "python3"
  },
  "language_info": {
   "codemirror_mode": {
    "name": "ipython",
    "version": 3
   },
   "file_extension": ".py",
   "mimetype": "text/x-python",
   "name": "python",
   "nbconvert_exporter": "python",
   "pygments_lexer": "ipython3",
   "version": "3.10.6"
  },
  "orig_nbformat": 4
 },
 "nbformat": 4,
 "nbformat_minor": 2
}
